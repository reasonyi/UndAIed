{
 "cells": [
  {
   "cell_type": "code",
   "execution_count": null,
   "metadata": {},
   "outputs": [],
   "source": [
    "input_string = \"\"\"\n",
    "(<1> [topic] (자율주행 자동차는 언제 출시될 것인가?) [topic_debate] {12345} <인게임 1번유저> (주제 대화1) 타임스탬프1 | {44445} <인게임 2번유저> (주제 대화2) 타임스탬프2 | {11115} <인게임 3번유저> (주제 대화3) 타임스탬프3 | {11115} <인게임 3번유저> (주제 대화4) 타임스탬프4 | {12345} <인게임 1번유저> (마지막_대화) 마지막_타임스탬프 | [free_debate] {44445} <인게임 2번유저> (자유 대화1) 타임스탬프1 | {11115} <인게임 3번유저> (자유 대화2) 타임스탬프2 | [event] {vote} <인게임 1번유저> (타겟1) 타임스탬프1 | ), \n",
    "(<2> [topic] (자율주행 자동차는 언제 고장날 것인가?) [topic_debate] {12345} <인게임 1번유저> (주제 대화1) 타임스탬프1 | {12345} <인게임 1번유저> (마지막_대화) 마지막_타임스탬프 | [free_debate] {11115} <인게임 3번유저> (자유 대화1) 타임스탬프2 | [event] {vote} <인게임 4번유저> (타겟2) 타임스탬프1 | ), \n",
    "(<3> [topic] (자율주행 자동차는 언제 고장날 것인가?) [topic_debate] {12345} <인게임 1번유저> (주제 대화1) 타임스탬프1 | {11115} <인게임 3번유저> (주제 대화2) 타임스탬프2 | {11115} <인게임 3번유저> (마지막_대화) 마지막_타임스탬프 | [free_debate] {98765} <인게임 6번유저> (자유 대화1) 타임스탬프2 | [event] {vote} <인게임 5번유저> (타겟6) 타임스탬프1 | )\n",
    "\"\"\""
   ]
  },
  {
   "cell_type": "code",
   "execution_count": 72,
   "metadata": {},
   "outputs": [],
   "source": [
    "import re\n",
    "import json\n",
    "\n",
    "\n",
    "def parse_input_string(input_string):\n",
    "    round_list = input_string.strip()[1:-1].split(\"), (\")\n",
    "    round_dict = {}\n",
    "\n",
    "    for round_str in round_list:\n",
    "        round_num = round_str[1]\n",
    "        round_dialogue = round_str.strip()[4:-1]\n",
    "        round_dict[round_num] = {}\n",
    "\n",
    "        # [topic] 섹션 파싱\n",
    "        topic_pattern = r\"\\[topic\\]\\s*\\((.*?)\\)\"\n",
    "        topic_match = re.search(topic_pattern, round_dialogue)\n",
    "        if topic_match:\n",
    "            round_dict[round_num][\"topic\"] = topic_match.group(1)\n",
    "\n",
    "        # [topic_debate] 섹션 파싱\n",
    "        topic_debate_pattern = r\"\\[topic_debate\\](.*?)\\[free_debate\\]\"\n",
    "        topic_debate_match = re.search(topic_debate_pattern, round_dialogue)\n",
    "        if topic_debate_match:\n",
    "            debates = topic_debate_match.group(1).strip().split(\"|\")\n",
    "            parsed_debates = []\n",
    "            for debate in debates:\n",
    "                debate = debate.strip()\n",
    "                if debate:\n",
    "                    user_pattern = r\"\\{(\\d+)\\}\\s*<[^>]+>\\s*\\(([^)]+)\\)\"\n",
    "                    user_match = re.search(user_pattern, debate)\n",
    "                    if user_match:\n",
    "                        parsed_debates.append(\n",
    "                            {\n",
    "                                \"user_id\": user_match.group(1),\n",
    "                                \"content\": user_match.group(2),\n",
    "                            }\n",
    "                        )\n",
    "            round_dict[round_num][\"topic_debate\"] = parsed_debates\n",
    "\n",
    "        # [free_debate] 섹션 파싱\n",
    "        free_debate_pattern = r\"\\[free_debate\\](.*?)\\[event\\]\"\n",
    "        free_debate_match = re.search(free_debate_pattern, round_dialogue)\n",
    "        if free_debate_match:\n",
    "            debates = free_debate_match.group(1).strip().split(\"|\")\n",
    "            parsed_debates = []\n",
    "            for debate in debates:\n",
    "                debate = debate.strip()\n",
    "                if debate:\n",
    "                    user_pattern = r\"\\{(\\d+)\\}\\s*<[^>]+>\\s*\\(([^)]+)\\)\"\n",
    "                    user_match = re.search(user_pattern, debate)\n",
    "                    if user_match:\n",
    "                        parsed_debates.append(\n",
    "                            {\n",
    "                                \"user_id\": user_match.group(1),\n",
    "                                \"content\": user_match.group(2),\n",
    "                            }\n",
    "                        )\n",
    "            round_dict[round_num][\"free_debate\"] = parsed_debates\n",
    "\n",
    "    return json.dumps(round_dict, ensure_ascii=False, indent=2)"
   ]
  },
  {
   "cell_type": "code",
   "execution_count": 74,
   "metadata": {},
   "outputs": [
    {
     "name": "stdout",
     "output_type": "stream",
     "text": [
      "['{\\n  \"1\": {\\n    \"topic\": \"자율주행 자동차는 언제 출시될 것인가?\",\\n    \"topic_debate\": [\\n      {\\n        \"user_id\": \"12345\",\\n        \"content\": \"주제 대화1\"\\n      },\\n      {\\n        \"user_id\": \"44445\",\\n        \"content\": \"주제 대화2\"\\n      },\\n      {\\n        \"user_id\": \"11115\",\\n        \"content\": \"주제 대화3\"\\n      },\\n      {\\n        \"user_id\": \"11115\",\\n        \"content\": \"주제 대화4\"\\n      },\\n      {\\n        \"user_id\": \"12345\",\\n        \"content\": \"마지막_대화\"\\n      }\\n    ],\\n    \"free_debate\": [\\n      {\\n        \"user_id\": \"44445\",\\n        \"content\": \"자유 대화1\"\\n      },\\n      {\\n        \"user_id\": \"11115\",\\n        \"content\": \"자유 대화2\"\\n      }\\n    ]\\n  },\\n  \"2\": {\\n    \"topic\": \"자율주행 자동차는 언제 고장날 것인가?\",\\n    \"topic_debate\": [\\n      {\\n        \"user_id\": \"12345\",\\n        \"content\": \"주제 대화1\"\\n      },\\n      {\\n        \"user_id\": \"12345\",\\n        \"content\": \"마지막_대화\"\\n      }\\n    ],\\n    \"free_debate\": [\\n      {\\n        \"user_id\": \"11115\",\\n        \"content\": \"자유 대화1\"\\n      }\\n    ]\\n  },\\n  \"3\": {\\n    \"topic\": \"자율주행 자동차는 언제 고장날 것인가?\",\\n    \"topic_debate\": [\\n      {\\n        \"user_id\": \"12345\",\\n        \"content\": \"주제 대화1\"\\n      },\\n      {\\n        \"user_id\": \"11115\",\\n        \"content\": \"주제 대화2\"\\n      },\\n      {\\n        \"user_id\": \"11115\",\\n        \"content\": \"마지막_대화\"\\n      }\\n    ],\\n    \"free_debate\": [\\n      {\\n        \"user_id\": \"98765\",\\n        \"content\": \"자유 대화1\"\\n      }\\n    ]\\n  }\\n}']\n"
     ]
    }
   ],
   "source": [
    "result = [parse_input_string(input_string)]\n",
    "print(result)"
   ]
  }
 ],
 "metadata": {
  "kernelspec": {
   "display_name": "venv",
   "language": "python",
   "name": "python3"
  },
  "language_info": {
   "codemirror_mode": {
    "name": "ipython",
    "version": 3
   },
   "file_extension": ".py",
   "mimetype": "text/x-python",
   "name": "python",
   "nbconvert_exporter": "python",
   "pygments_lexer": "ipython3",
   "version": "3.12.8"
  }
 },
 "nbformat": 4,
 "nbformat_minor": 2
}
