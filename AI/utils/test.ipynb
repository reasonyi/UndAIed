{
 "cells": [
  {
   "cell_type": "code",
   "execution_count": 2,
   "metadata": {},
   "outputs": [],
   "source": [
    "input_string = \"\"\"\n",
    "(<1> [topic] (자율주행 자동차는 언제 출시될 것인가?) [topic_debate] {12345} <인게임 1번유저> (주제 대화1) 타임스탬프1 | {44445} <인게임 2번유저> (주제 대화2) 타임스탬프2 | {11115} <인게임 3번유저> (주제 대화3) 타임스탬프3 | {11115} <인게임 3번유저> (주제 대화4) 타임스탬프4 | {12345} <인게임 1번유저> (마지막_대화) 마지막_타임스탬프 | [free_debate] {44445} <인게임 2번유저> (자유 대화1) 타임스탬프1 | {11115} <인게임 3번유저> (자유 대화2) 타임스탬프2 | [event] {vote} <인게임 1번유저> (타겟2) 타임스탬프1 | [event] {vote} <인게임 2번유저> (타겟5) 타임스탬프2 | [event] {vote} <인게임 1번유저> (타겟1) 타임스탬프3 | [event] {execute} (타겟1) 타임스탬프1 | [event] {dead} (타겟1) 타임스탬프1 |), (<2> [topic] (자율주행 자동차는 언제 고장날 것인가?) [topic_debate] {12345} <인게임 1번유저> (주제 대화1) 타임스탬프1 | {12345} <인게임 1번유저> (마지막_대화) 마지막_타임스탬프 | [free_debate] {11115} <인게임 3번유저> (자유 대화1) 타임스탬프2 | [event] {vote} <인게임 4번유저> (타겟2) 타임스탬프1 | ), (<3> [topic] (자율주행 자동차는 언제 고장날 것인가?) [topic_debate] {12345} <인게임 1번유저> (주제 대화1) 타임스탬프1 | {11115} <인게임 3번유저> (주제 대화2) 타임스탬프2 | {11115} <인게임 3번유저> (마지막_대화) 마지막_타임스탬프 | [free_debate] {98765} <인게임 6번유저> (자유 대화1) 타임스탬프2 | [event] {vote} <인게임 5번유저> (타겟6) 타임스탬프1 | )\n",
    "\"\"\""
   ]
  },
  {
   "cell_type": "code",
   "execution_count": null,
   "metadata": {},
   "outputs": [],
   "source": [
    "import re\n",
    "\n",
    "\n",
    "def parse_debate(debate_content: str) -> list[dict]:\n",
    "    \"\"\"debate 내용을 파싱하는 공통 함수\"\"\"\n",
    "    debates = debate_content.strip().split(\"|\")\n",
    "    parsed_debates = []\n",
    "\n",
    "    for debate in debates:\n",
    "        debate = debate.strip()\n",
    "        if debate:\n",
    "            user_pattern = r\"\\{(\\d+)\\}\\s*<[^>]+>\\s*\\(([^)]+)\\)\"\n",
    "            user_match = re.search(user_pattern, debate)\n",
    "            if user_match:\n",
    "                parsed_debates.append(\n",
    "                    {\n",
    "                        \"user_id\": user_match.group(1),\n",
    "                        \"content\": user_match.group(2),\n",
    "                    }\n",
    "                )\n",
    "    return parsed_debates\n",
    "\n",
    "\n",
    "def parse_topic(dialogue: str) -> str:\n",
    "    \"\"\"topic 섹션 파싱\"\"\"\n",
    "    topic_pattern = r\"\\[topic\\]\\s*\\((.*?)\\)\"\n",
    "    topic_match = re.search(topic_pattern, dialogue)\n",
    "    return topic_match.group(1) if topic_match else \"\"\n",
    "\n",
    "\n",
    "def parse_topic_debate(dialogue: str) -> list[dict]:\n",
    "    \"\"\"topic_debate 섹션 파싱\"\"\"\n",
    "    topic_debate_pattern = r\"\\[topic_debate\\](.*?)\\[free_debate\\]\"\n",
    "    topic_debate_match = re.search(topic_debate_pattern, dialogue)\n",
    "    if topic_debate_match:\n",
    "        return parse_debate(topic_debate_match.group(1))\n",
    "    return []\n",
    "\n",
    "\n",
    "def parse_free_debate(dialogue: str) -> list[dict]:\n",
    "    \"\"\"free_debate 섹션 파싱\"\"\"\n",
    "    free_debate_pattern = r\"\\[free_debate\\](.*?)\\[event\\]\"\n",
    "    free_debate_match = re.search(free_debate_pattern, dialogue)\n",
    "    if free_debate_match:\n",
    "        return parse_debate(free_debate_match.group(1))\n",
    "    return []\n",
    "\n",
    "\n",
    "def parse_event(dialogue: str) -> list[dict]:\n",
    "    \"\"\"\n",
    "    event 섹션 파싱\n",
    "    vote의 경우 {유저:타겟} 구조의 딕셔너리 배열,\n",
    "    execute, dead의 경우 타겟값을 정수로 반환\n",
    "    \"\"\"\n",
    "    event_pattern = r\"\\[event\\]\\s*\\{(.*?)\\}\\s*(?:<([^>]+)>)?\\s*\\(([^)]+)\\)\"\n",
    "    event_matches = re.finditer(event_pattern, dialogue)\n",
    "\n",
    "    result = []\n",
    "    vote_dict = {\"vote\": []}\n",
    "    has_vote = False\n",
    "\n",
    "    for match in event_matches:\n",
    "        event_type = match.group(1)\n",
    "        user = match.group(2)  # vote인 경우에만 사용\n",
    "        target = match.group(3).replace(\"타겟\", \"\")  # \"타겟1\" -> \"1\"\n",
    "\n",
    "        if event_type == \"vote\":\n",
    "            has_vote = True\n",
    "            # 유저 ID 추출 (예: \"인게임 1번유저\" -> \"1\")\n",
    "            user_id = re.search(r\"(\\d+)번유저\", user).group(1)\n",
    "            vote_dict[\"vote\"].append({user_id: target})\n",
    "        elif event_type in [\"execute\", \"dead\"]:\n",
    "            result.append({event_type: target})\n",
    "\n",
    "    # vote 딕셔너리가 있는 경우에만 추가\n",
    "    if has_vote:\n",
    "        result.insert(0, vote_dict)\n",
    "\n",
    "    return result\n",
    "\n",
    "\n",
    "def parse_round(round_str: str) -> tuple:\n",
    "    \"\"\"각 라운드 문자열 파싱\"\"\"\n",
    "    round_num = round_str[1]\n",
    "    round_dialogue = round_str.strip()[4:-1]\n",
    "    return round_num, round_dialogue\n",
    "\n",
    "\n",
    "def dialogue_parser(dialogue: str) -> dict:\n",
    "    \"\"\"메인 파싱 함수\"\"\"\n",
    "    round_list = dialogue.strip()[1:-1].split(\"), (\")\n",
    "    round_dict = {}\n",
    "\n",
    "    for round_str in round_list:\n",
    "        round_num, round_dialogue = parse_round(round_str)\n",
    "        round_dict[round_num] = {\n",
    "            \"topic\": parse_topic(round_dialogue),\n",
    "            \"topic_debate\": parse_topic_debate(round_dialogue),\n",
    "            \"free_debate\": parse_free_debate(round_dialogue),\n",
    "            \"event\": parse_event(round_dialogue),\n",
    "        }\n",
    "\n",
    "    return round_dict"
   ]
  },
  {
   "cell_type": "code",
   "execution_count": 3,
   "metadata": {},
   "outputs": [
    {
     "name": "stdout",
     "output_type": "stream",
     "text": [
      "{'1': {'topic': '자율주행 자동차는 언제 출시될 것인가?', 'topic_debate': [{'user_id': '12345', 'content': '주제 대화1'}, {'user_id': '44445', 'content': '주제 대화2'}, {'user_id': '11115', 'content': '주제 대화3'}, {'user_id': '11115', 'content': '주제 대화4'}, {'user_id': '12345', 'content': '마지막_대화'}], 'free_debate': [{'user_id': '44445', 'content': '자유 대화1'}, {'user_id': '11115', 'content': '자유 대화2'}], 'event': [{'vote': [{'1': '2'}, {'2': '5'}, {'1': '1'}]}, {'execute': '1'}, {'dead': '1'}]}, '2': {'topic': '자율주행 자동차는 언제 고장날 것인가?', 'topic_debate': [{'user_id': '12345', 'content': '주제 대화1'}, {'user_id': '12345', 'content': '마지막_대화'}], 'free_debate': [{'user_id': '11115', 'content': '자유 대화1'}], 'event': [{'vote': [{'4': '2'}]}]}, '3': {'topic': '자율주행 자동차는 언제 고장날 것인가?', 'topic_debate': [{'user_id': '12345', 'content': '주제 대화1'}, {'user_id': '11115', 'content': '주제 대화2'}, {'user_id': '11115', 'content': '마지막_대화'}], 'free_debate': [{'user_id': '98765', 'content': '자유 대화1'}], 'event': [{'vote': [{'5': '6'}]}]}}\n"
     ]
    }
   ],
   "source": [
    "result = dialogue_parser(input_string)\n",
    "print(result)"
   ]
  },
  {
   "cell_type": "markdown",
   "metadata": {},
   "source": [
    "^ gemini\n",
    "---------\n",
    "V chatgpt"
   ]
  },
  {
   "cell_type": "code",
   "execution_count": null,
   "metadata": {},
   "outputs": [],
   "source": []
  }
 ],
 "metadata": {
  "kernelspec": {
   "display_name": "venv",
   "language": "python",
   "name": "python3"
  },
  "language_info": {
   "codemirror_mode": {
    "name": "ipython",
    "version": 3
   },
   "file_extension": ".py",
   "mimetype": "text/x-python",
   "name": "python",
   "nbconvert_exporter": "python",
   "pygments_lexer": "ipython3",
   "version": "3.12.8"
  }
 },
 "nbformat": 4,
 "nbformat_minor": 2
}
