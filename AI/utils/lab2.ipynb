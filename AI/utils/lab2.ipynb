{
 "cells": [
  {
   "cell_type": "markdown",
   "metadata": {},
   "source": [
    "json 실험실"
   ]
  },
  {
   "cell_type": "code",
   "execution_count": null,
   "metadata": {},
   "outputs": [],
   "source": [
    "json_dict = {\n",
    "    \"message\": {\n",
    "        \"1\": {\n",
    "            \"topic\": \"AI가 인간의 일자리를 완전히 대체할까요?\",\n",
    "            \"topic_debate\": [\n",
    "                {\"user_id\": 1, \"content\": \"에이 말도 안돼\"},\n",
    "                {\"user_id\": 2, \"content\": \"저는 AI가 도구일 뿐이라고 생각해요\"},\n",
    "                {\n",
    "                    \"user_id\": 3,\n",
    "                    \"content\": \"AI가 인간의 일자리를 대체한들, 또 새로운 직업이 생길 거에요\",\n",
    "                },\n",
    "                {\"user_id\": 4, \"content\": \"AI 발전 속도가 너무 빨라서 걱정이네요\"},\n",
    "                {\"user_id\": 5, \"content\": \"우리가 잘 활용하면 될 것 같아요\"},\n",
    "            ],\n",
    "            \"free_debate\": [\n",
    "                {\"user_id\": 1, \"content\": \"안녕하세요\"},\n",
    "                {\"user_id\": 2, \"content\": \"반갑습니다\"},\n",
    "            ],\n",
    "            \"event\": [{\"vote_result\": 2}, {\"dead\": 1}],\n",
    "        },\n",
    "        \"2\": {\n",
    "            \"topic\": \"철수가 20개의 연필과 24개의 지우개를 가지고 있었습니다. 영희가 연필의 절반을 가져가고 민수가 지우개 중 15개를 가져갔을 때, 철수는 연필과 지우개 세트를 몇 쌍 만들 수 있을까요?\",\n",
    "            \"topic_debate\": [\n",
    "                {\"user_id\": 1, \"content\": \"9쌍\"},\n",
    "                {\"user_id\": 2, \"content\": \"5쌍\"},\n",
    "                {\"user_id\": 8, \"content\": \"9999999\"},\n",
    "            ],\n",
    "            \"free_debate\": [\n",
    "                {\"user_id\": 1, \"content\": \"8번 처형하자\"},\n",
    "                {\"user_id\": 1, \"content\": \"무조건ai\"},\n",
    "                {\"user_id\": 5, \"content\": \"투표ㄱ\"},\n",
    "                {\"user_id\": 6, \"content\": \"진짜 8번 딱봐도 AI맞다. 나를 믿어라\"},\n",
    "            ],\n",
    "        },\n",
    "    }\n",
    "}"
   ]
  }
 ],
 "metadata": {
  "kernelspec": {
   "display_name": "venv",
   "language": "python",
   "name": "python3"
  },
  "language_info": {
   "name": "python",
   "version": "3.12.8"
  }
 },
 "nbformat": 4,
 "nbformat_minor": 2
}
