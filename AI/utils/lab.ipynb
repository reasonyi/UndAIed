{
 "cells": [
  {
   "cell_type": "markdown",
   "metadata": {},
   "source": [
    "파싱함수 설계 실험실  :: 실험실 폐쇄"
   ]
  },
  {
   "cell_type": "code",
   "execution_count": 343,
   "metadata": {},
   "outputs": [],
   "source": [
    "import re\n",
    "from collections import defaultdict"
   ]
  },
  {
   "cell_type": "code",
   "execution_count": 345,
   "metadata": {},
   "outputs": [],
   "source": [
    "full_str = \"\"\"([topic] AI가 인간의 일자리를 완전히 대체할까요? [topic_debate] {12345} [JohnDoe] <1> (에이 말도 안돼) 2025-01-30T10:05:23 | {67890} [kdh] <2> (저는 AI가 도구일 뿐이라고 생각해요) 2025-01-30T10:06:15 | {11111} [Mike] <3> (AI가 인간의 일자리를 대체한들, 또 새로운 직업이 생길 거에요) 2025-01-30T10:07:30 | {12345} [sunny] <4> (AI 발전 속도가 너무 빨라서 걱정이네요) 2025-01-30T10:15:23 | {67890} [yuuri] <5> (우리가 잘 활용하면 될 것 같아요) 2025-01-30T10:16:45 | [free_debate] {1001} [JohnDoe] <1> (안녕하세요) 2025-02-14T10:00:00 | {1002} [kdh] <2> (반갑습니다) 2025-02-14T10:00:05 | [event] {vote} [JohnDoe] <1> (kdh) ~2~ 2024-02-14T15:30:45.123 | {vote} [Mike] <3> (kdh) ~2~ 2024-02-14T15:30:48.456 | {vote_result} [null] <null> (Mike) ~3~ 2024-02-14T15:31:15.012 | {infection} [null] <null> (JohnDoe) ~1~ 2024-02-14T15:31:00.789 | ), (...), ()\"\"\""
   ]
  },
  {
   "cell_type": "code",
   "execution_count": 346,
   "metadata": {},
   "outputs": [],
   "source": [
    "def stage_extractor(dialogue: str) -> list:\n",
    "    stages = dialogue[1:-1].split(\"), (\")\n",
    "    for stage in stages:\n",
    "        stage = stage.strip()\n",
    "    return stages"
   ]
  },
  {
   "cell_type": "code",
   "execution_count": 347,
   "metadata": {},
   "outputs": [
    {
     "name": "stdout",
     "output_type": "stream",
     "text": [
      "[topic] AI가 인간의 일자리를 완전히 대체할까요? [topic_debate] {12345} [JohnDoe] <1> (에이 말도 안돼) 2025-01-30T10:05:23 | {67890} [kdh] <2> (저는 AI가 도구일 뿐이라고 생각해요) 2025-01-30T10:06:15 | {11111} [Mike] <3> (AI가 인간의 일자리를 대체한들, 또 새로운 직업이 생길 거에요) 2025-01-30T10:07:30 | {12345} [sunny] <4> (AI 발전 속도가 너무 빨라서 걱정이네요) 2025-01-30T10:15:23 | {67890} [yuuri] <5> (우리가 잘 활용하면 될 것 같아요) 2025-01-30T10:16:45 | [free_debate] {1001} [JohnDoe] <1> (안녕하세요) 2025-02-14T10:00:00 | {1002} [kdh] <2> (반갑습니다) 2025-02-14T10:00:05 | [event] {vote} [JohnDoe] <1> (kdh) ~2~ 2024-02-14T15:30:45.123 | {vote} [Mike] <3> (kdh) ~2~ 2024-02-14T15:30:48.456 | {vote_result} [null] <null> (Mike) ~3~ 2024-02-14T15:31:15.012 | {infection} [null] <null> (JohnDoe) ~1~ 2024-02-14T15:31:00.789 | \n",
      "...\n",
      "\n"
     ]
    }
   ],
   "source": [
    "stage_list = stage_extractor(full_str)\n",
    "for stage in stage_list:\n",
    "    print(stage)\n",
    "\n",
    "# 테스트 통과"
   ]
  },
  {
   "cell_type": "code",
   "execution_count": 416,
   "metadata": {},
   "outputs": [],
   "source": [
    "# 스테이지 안에서 topic 내용만 추출\n",
    "def topic_extractor(stage: str) -> str:\n",
    "    pattern = r\"\\[topic\\]\\s*\\((.*?)\\)(?:\\s*\\[topic_debate\\])?\"\n",
    "    result = re.search(pattern, stage)\n",
    "    topic = result.group(1) if result else \"\"\n",
    "    return topic.strip()"
   ]
  },
  {
   "cell_type": "code",
   "execution_count": 349,
   "metadata": {},
   "outputs": [],
   "source": [
    "stage = \"\"\"[topic] AI가 인간의 일자리를 완전히 대체할까요? [topic_debate] {12345} [JohnDoe] <1> (에이 말도 안돼) 2025-01-30T10:05:23 | {67890} [kdh] <2> (저는 AI가 도구일 뿐이라고 생각해요) 2025-01-30T10:06:15 | {11111} [Mike] <3> (AI가 인간의 일자리를 대체한들, 또 새로운 직업이 생길 거에요) 2025-01-30T10:07:30 | {12345} [sunny] <4> (AI 발전 속도가 너무 빨라서 걱정이네요) 2025-01-30T10:15:23 | {67890} [yuuri] <5> (우리가 잘 활용하면 될 것 같아요) 2025-01-30T10:16:45 | [free_debate] {1001} [JohnDoe] <1> (안녕하세요) 2025-02-14T10:00:00 | {1002} [kdh] <2> (반갑습니다) 2025-02-14T10:00:05 | [event] {vote} [JohnDoe] <1> (kdh) ~2~ 2024-02-14T15:30:45.123 | {vote} [Mike] <3> (kdh) ~2~ 2024-02-14T15:30:48.456 | {vote_result} [null] <null> (Mike) ~3~ 2024-02-14T15:31:15.012 | {infection} [null] <null> (JohnDoe) ~1~ 2024-02-14T15:31:00.789 | \"\"\""
   ]
  },
  {
   "cell_type": "code",
   "execution_count": 350,
   "metadata": {},
   "outputs": [
    {
     "name": "stdout",
     "output_type": "stream",
     "text": [
      "AI가 인간의 일자리를 완전히 대체할까요?\n"
     ]
    }
   ],
   "source": [
    "print(topic_extractor(stage))\n",
    "# 테스트 통과"
   ]
  },
  {
   "cell_type": "code",
   "execution_count": 351,
   "metadata": {},
   "outputs": [],
   "source": [
    "half_stage = \"\"\"[topic] AI가 인간의 일자리를 완전히 대체할까요? \"\"\""
   ]
  },
  {
   "cell_type": "code",
   "execution_count": 352,
   "metadata": {},
   "outputs": [
    {
     "name": "stdout",
     "output_type": "stream",
     "text": [
      "AI가 인간의 일자리를 완전히 대체할까요?\n"
     ]
    }
   ],
   "source": [
    "print(topic_extractor(stage))"
   ]
  },
  {
   "cell_type": "code",
   "execution_count": 353,
   "metadata": {},
   "outputs": [
    {
     "data": {
      "text/plain": [
       "'[topic] AI가 인간의 일자리를 완전히 대체할까요? [topic_debate] {12345} [JohnDoe] <1> (에이 말도 안돼) 2025-01-30T10:05:23 | {67890} [kdh] <2> (저는 AI가 도구일 뿐이라고 생각해요) 2025-01-30T10:06:15 | {11111} [Mike] <3> (AI가 인간의 일자리를 대체한들, 또 새로운 직업이 생길 거에요) 2025-01-30T10:07:30 | {12345} [sunny] <4> (AI 발전 속도가 너무 빨라서 걱정이네요) 2025-01-30T10:15:23 | {67890} [yuuri] <5> (우리가 잘 활용하면 될 것 같아요) 2025-01-30T10:16:45 | [free_debate] {1001} [JohnDoe] <1> (안녕하세요) 2025-02-14T10:00:00 | {1002} [kdh] <2> (반갑습니다) 2025-02-14T10:00:05 | [event] {vote} [JohnDoe] <1> (kdh) ~2~ 2024-02-14T15:30:45.123 | {vote} [Mike] <3> (kdh) ~2~ 2024-02-14T15:30:48.456 | {vote_result} [null] <null> (Mike) ~3~ 2024-02-14T15:31:15.012 | {infection} [null] <null> (JohnDoe) ~1~ 2024-02-14T15:31:00.789 | '"
      ]
     },
     "execution_count": 353,
     "metadata": {},
     "output_type": "execute_result"
    }
   ],
   "source": [
    "stage"
   ]
  },
  {
   "cell_type": "code",
   "execution_count": 354,
   "metadata": {},
   "outputs": [],
   "source": [
    "# 토론을 추출하는 함수\n",
    "def debate_extractor(stage: str) -> tuple[list, list]:\n",
    "    pattern = r\"\\[topic_debate\\](.*?)(?:\\[event\\] \\{vote\\}|$)\"\n",
    "    match = re.search(pattern, stage)\n",
    "    if not match:\n",
    "        return [], []\n",
    "\n",
    "    # 매칭된 내용을 | 로 분할하고 각 항목의 앞뒤 공백 제거\n",
    "    debates = [debate.strip() for debate in match.group(1).split(\"|\")]\n",
    "    # 빈 문자열 제거\n",
    "    debates = [debate for debate in debates if debate]\n",
    "    topic_debates = debates\n",
    "    free_debates = []\n",
    "    for i, debate in enumerate(debates):\n",
    "        if debate.startswith(\"[free_debate]\"):\n",
    "            free_debates = debates[i:]\n",
    "            topic_debates = debates[:i]\n",
    "            break\n",
    "\n",
    "    return topic_debates, free_debates"
   ]
  },
  {
   "cell_type": "code",
   "execution_count": 355,
   "metadata": {},
   "outputs": [
    {
     "name": "stdout",
     "output_type": "stream",
     "text": [
      "([], [])\n"
     ]
    }
   ],
   "source": [
    "test = \"\"\"[topic] AI가 인간의 일자리를 완전히 대체할까요? [topic_debate]\"\"\"\n",
    "\n",
    "print(debate_extractor(test))"
   ]
  },
  {
   "cell_type": "code",
   "execution_count": 356,
   "metadata": {},
   "outputs": [],
   "source": [
    "# 주제 토론, 자유 토론 둘 다 적용가능한 파싱 함수\n",
    "def debate_parser(debates: list) -> list:\n",
    "    debate_list: list = []\n",
    "    for debate in debates:\n",
    "        pattern = r\"<(\\d+)>.*?\\((.*?)\\)\"\n",
    "        match = re.search(pattern, debate)\n",
    "        if match:\n",
    "            debate_list.append(\n",
    "                {\"user_id\": int(match.group(1)), \"content\": match.group(2)}\n",
    "            )\n",
    "            \n",
    "    return debate_list"
   ]
  },
  {
   "cell_type": "code",
   "execution_count": 357,
   "metadata": {},
   "outputs": [],
   "source": [
    "def event_extractor(stage:str)->str:\n",
    "    pattern = r\"\\[event\\] \\{vote\\}.*$\"\n",
    "    match = re.search(pattern, stage)\n",
    "    return match.group(0) if match else \"\""
   ]
  },
  {
   "cell_type": "code",
   "execution_count": 358,
   "metadata": {},
   "outputs": [],
   "source": [
    "def event_splitter(event: str) -> list:\n",
    "    events = event.strip().split(\"|\")\n",
    "    events = [event.strip() for event in events if event]\n",
    "    return events"
   ]
  },
  {
   "cell_type": "code",
   "execution_count": 359,
   "metadata": {},
   "outputs": [],
   "source": [
    "def event_parser(events) -> list:\n",
    "    angle_pattern = r'<(\\d+)>'\n",
    "    tilde_pattern = r'~(\\d+)~'\n",
    "    name_pattern = r'\\((.*?)\\)'\n",
    "    \n",
    "    event_list = []\n",
    "    vote_dict = {}\n",
    "    \n",
    "    for event in events:\n",
    "        if \"{vote}\" in event:\n",
    "            voter = int(re.search(angle_pattern, event).group(1))\n",
    "            vote = int(re.search(tilde_pattern, event).group(1))\n",
    "            vote_dict[voter] = vote\n",
    "            \n",
    "        elif \"{vote_result}\" in event:\n",
    "            target = re.search(name_pattern, event).group(1)\n",
    "            for vote_event in events:\n",
    "                if \"{vote}\" in vote_event and target in vote_event:\n",
    "                    voter = int(re.search(angle_pattern, vote_event).group(1))\n",
    "                    event_list = [{\"vote\": vote_dict}, {\"vote_result\": voter}]\n",
    "                    break\n",
    "            \n",
    "        elif \"{infection}\" in event:\n",
    "            target = re.search(name_pattern, event).group(1)\n",
    "            for vote_event in events:\n",
    "                if target in vote_event:\n",
    "                    voter = int(re.search(angle_pattern, vote_event).group(1))\n",
    "                    event_list.append({\"dead\": voter})\n",
    "                    break\n",
    "            break\n",
    "                    \n",
    "    return event_list or ([{\"vote\": vote_dict}] if vote_dict else [])"
   ]
  },
  {
   "cell_type": "code",
   "execution_count": 417,
   "metadata": {},
   "outputs": [],
   "source": [
    "def dialogue_parser(full_str: str) -> defaultdict:\n",
    "    result: defaultdict = {}\n",
    "    stages = stage_extractor(full_str)\n",
    "    for i, stage in enumerate(stages):\n",
    "        topic_debate_list = [{\"user_id\": 0, \"content\": topic_extractor(stage)}]\n",
    "        topic_debates, free_debates = debate_extractor(stage)\n",
    "        topic_debate_list.extend(debate_parser(topic_debates))\n",
    "        free_debates_list = debate_parser(free_debates)\n",
    "        event_list = event_parser(event_splitter(event_extractor(stage)))\n",
    "        result[f\"{i + 1}\"] = {\n",
    "            \"topic_debate\": topic_debate_list,\n",
    "            \"free_debate\": free_debates_list,\n",
    "            \"event\": event_list,\n",
    "        }\n",
    "    return result"
   ]
  },
  {
   "cell_type": "code",
   "execution_count": 420,
   "metadata": {},
   "outputs": [],
   "source": [
    "full_str = \"\"\"([topic] (AI가 인간의 일자리를 완전히 대체할까요?) [topic_debate] {12345} [JohnDoe] <1> (에이 말도 안돼) 2025-01-30T10:05:23 | {67890} [kdh] <2> (저는 AI가 도구일 뿐이라고 생각해요) 2025-01-30T10:06:15 | {11111} [Mike] <3> (AI가 인간의 일자리를 대체한들, 또 새로운 직업이 생길 거에요) 2025-01-30T10:07:30 | {12345} [sunny] <4> (AI 발전 속도가 너무 빨라서 걱정이네요) 2025-01-30T10:15:23 | {67890} [yuuri] <5> (우리가 잘 활용하면 될 것 같아요) 2025-01-30T10:16:45 | [free_debate] {1001} [JohnDoe] <1> (안녕하세요) 2025-02-14T10:00:00 | {1002} [kdh] <2> (반갑습니다) 2025-02-14T10:00:05 | [event] {vote} [JohnDoe] <1> (kdh) ~2~ 2024-02-14T15:30:45.123 | {vote} [Mike] <3> (kdh) ~2~ 2024-02-14T15:30:48.456 | {vote_result} [null] <null> (Mike) ~3~ 2024-02-14T15:31:15.012 | {infection} [null] <null> (JohnDoe) ~1~ 2024-02-14T15:31:00.789 | )\"\"\""
   ]
  },
  {
   "cell_type": "code",
   "execution_count": 421,
   "metadata": {},
   "outputs": [
    {
     "name": "stdout",
     "output_type": "stream",
     "text": [
      "{'1': {'event': [{'vote': {1: 2, 3: 2}}, {'vote_result': 3}, {'dead': 1}],\n",
      "       'free_debate': [{'content': '안녕하세요', 'user_id': 1},\n",
      "                       {'content': '반갑습니다', 'user_id': 2}],\n",
      "       'topic_debate': [{'content': 'AI가 인간의 일자리를 완전히 대체할까요?', 'user_id': 0},\n",
      "                        {'content': '에이 말도 안돼', 'user_id': 1},\n",
      "                        {'content': '저는 AI가 도구일 뿐이라고 생각해요', 'user_id': 2},\n",
      "                        {'content': 'AI가 인간의 일자리를 대체한들, 또 새로운 직업이 생길 거에요',\n",
      "                         'user_id': 3},\n",
      "                        {'content': 'AI 발전 속도가 너무 빨라서 걱정이네요', 'user_id': 4},\n",
      "                        {'content': '우리가 잘 활용하면 될 것 같아요', 'user_id': 5}]}}\n"
     ]
    }
   ],
   "source": [
    "from pprint import pprint\n",
    "pprint(dialogue_parser(full_str))"
   ]
  },
  {
   "cell_type": "code",
   "execution_count": null,
   "metadata": {},
   "outputs": [],
   "source": [
    "topic_debates, free_debates = debate_extractor(stage)\n",
    "print(topic_debates)\n",
    "for topic_debate in topic_debates:\n",
    "    print(topic_debate)\n",
    "    \n",
    "print(\"-\"* 100)\n",
    "print(free_debates)\n",
    "for free_debate in free_debates:\n",
    "    print(free_debate)\n",
    "    \n",
    "# 테스트 통과"
   ]
  },
  {
   "cell_type": "code",
   "execution_count": 247,
   "metadata": {},
   "outputs": [],
   "source": [
    "cutted_stage = \"\"\"[topic] AI가 인간의 일자리를 완전히 대체할까요? [topic_debate] {12345} [JohnDoe] <1> (에이 말도 안돼) 2025-01-30T10:05:23 | {67890} [kdh] <2> (저는 AI가 도구일 뿐이라고 생각해요) 2025-01-30T10:06:15 | \"\"\""
   ]
  },
  {
   "cell_type": "code",
   "execution_count": null,
   "metadata": {},
   "outputs": [],
   "source": [
    "topic_debates, free_debates = debate_extractor(cutted_stage)\n",
    "print(topic_debates)\n",
    "for topic_debate in topic_debates:\n",
    "    print(topic_debate)\n",
    "    \n",
    "print(\"-\"* 100)\n",
    "print(free_debates)\n",
    "for free_debate in free_debates:\n",
    "    print(free_debate)\n",
    "    \n",
    "# 테스트 통과"
   ]
  },
  {
   "cell_type": "code",
   "execution_count": 334,
   "metadata": {},
   "outputs": [],
   "source": [
    "def event_parser(events) -> list:\n",
    "    angle_pattern = r'<(\\d+)>'\n",
    "    tilde_pattern = r'~(\\d+)~'\n",
    "    name_pattern = r'\\((.*?)\\)'\n",
    "    \n",
    "    event_list = []\n",
    "    vote_dict = {}\n",
    "    \n",
    "    for event in events:\n",
    "        if \"{vote}\" in event:\n",
    "            voter = int(re.search(angle_pattern, event).group(1))\n",
    "            vote = int(re.search(tilde_pattern, event).group(1))\n",
    "            vote_dict[voter] = vote\n",
    "            \n",
    "        elif \"{vote_result}\" in event:\n",
    "            target = re.search(name_pattern, event).group(1)\n",
    "            for vote_event in events:\n",
    "                if \"{vote}\" in vote_event and target in vote_event:\n",
    "                    voter = int(re.search(angle_pattern, vote_event).group(1))\n",
    "                    event_list = [{\"vote\": vote_dict}, {\"vote_result\": voter}]\n",
    "                    break\n",
    "            \n",
    "        elif \"{infection}\" in event:\n",
    "            target = re.search(name_pattern, event).group(1)\n",
    "            for vote_event in events:\n",
    "                if target in vote_event:\n",
    "                    voter = int(re.search(angle_pattern, vote_event).group(1))\n",
    "                    event_list.append({\"dead\": voter})\n",
    "                    break\n",
    "            break\n",
    "                    \n",
    "    return event_list or ([{\"vote\": vote_dict}] if vote_dict else [])"
   ]
  },
  {
   "cell_type": "code",
   "execution_count": 209,
   "metadata": {},
   "outputs": [
    {
     "name": "stdout",
     "output_type": "stream",
     "text": [
      "[{'vote': {1: 2, 3: 2}}, {'vote_result': 3}, {'dead': 1}]\n"
     ]
    }
   ],
   "source": [
    "print(event_parser(events))"
   ]
  },
  {
   "cell_type": "code",
   "execution_count": 212,
   "metadata": {},
   "outputs": [],
   "source": [
    "half_events = ['[event] {vote} [JohnDoe] <1> (kdh) ~2~ 2024-02-14T15:30:45.123', '{vote} [Mike] <3> (kdh) ~2~ 2024-02-14T15:30:48.456', '{vote_result} [null] <null> (Mike) ~3~ 2024-02-14T15:31:15.012']"
   ]
  },
  {
   "cell_type": "code",
   "execution_count": 213,
   "metadata": {},
   "outputs": [
    {
     "name": "stdout",
     "output_type": "stream",
     "text": [
      "[{'vote': {1: 2, 3: 2}}, {'vote_result': 3}]\n"
     ]
    }
   ],
   "source": [
    "print(event_parser(half_events))"
   ]
  },
  {
   "cell_type": "code",
   "execution_count": 216,
   "metadata": {},
   "outputs": [],
   "source": [
    "only_voets = ['[event] {vote} [JohnDoe] <1> (kdh) ~2~ 2024-02-14T15:30:45.123', '{vote} [Mike] <3> (kdh) ~2~ 2024-02-14T15:30:48.456']"
   ]
  },
  {
   "cell_type": "code",
   "execution_count": 217,
   "metadata": {},
   "outputs": [
    {
     "name": "stdout",
     "output_type": "stream",
     "text": [
      "[{'vote': {1: 2, 3: 2}}]\n"
     ]
    }
   ],
   "source": [
    "print(event_parser(only_voets))"
   ]
  },
  {
   "cell_type": "code",
   "execution_count": 202,
   "metadata": {},
   "outputs": [
    {
     "name": "stdout",
     "output_type": "stream",
     "text": [
      "False\n"
     ]
    }
   ],
   "source": [
    "test = \"[event] {vote_} [JohnDoe] <1> (kdh) ~2~ 2024-02-14T15:30:45.123\"\n",
    "print(\"{vote}\" in test)"
   ]
  }
 ],
 "metadata": {
  "kernelspec": {
   "display_name": "venv",
   "language": "python",
   "name": "python3"
  },
  "language_info": {
   "codemirror_mode": {
    "name": "ipython",
    "version": 3
   },
   "file_extension": ".py",
   "mimetype": "text/x-python",
   "name": "python",
   "nbconvert_exporter": "python",
   "pygments_lexer": "ipython3",
   "version": "3.12.8"
  }
 },
 "nbformat": 4,
 "nbformat_minor": 2
}
